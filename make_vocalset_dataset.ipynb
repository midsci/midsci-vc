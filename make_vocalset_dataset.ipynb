{
 "cells": [
  {
   "cell_type": "code",
   "execution_count": 1,
   "id": "347ace04",
   "metadata": {},
   "outputs": [],
   "source": [
    "# VCTK Corpus Path\n",
    "__CORPUSPATH__ = \"./data/vocalset\"\n",
    "\n",
    "# output path\n",
    "__OUTPATH__ = \"./data/original\""
   ]
  },
  {
   "cell_type": "code",
   "execution_count": 4,
   "id": "4ce9eb2e",
   "metadata": {},
   "outputs": [],
   "source": [
    "import os\n",
    "from scipy.io import wavfile\n",
    "from pydub import AudioSegment\n",
    "\n",
    "from pydub import AudioSegment\n",
    "from pydub.silence import split_on_silence\n",
    "import os\n",
    "\n",
    "import glob\n",
    "\n",
    "def split(sound):\n",
    "    dBFS = sound.dBFS\n",
    "    chunks = split_on_silence(sound,\n",
    "        min_silence_len = 100,\n",
    "        silence_thresh = dBFS-16,\n",
    "        keep_silence = 100\n",
    "    )\n",
    "    return chunks\n",
    "\n",
    "def combine(_src):\n",
    "    audio = AudioSegment.empty()\n",
    "    for i,filename in enumerate(os.listdir(_src)):\n",
    "        if filename.endswith('.wav'):\n",
    "            filename = os.path.join(_src, filename)\n",
    "            audio += AudioSegment.from_wav(filename)\n",
    "    return audio\n",
    "\n",
    "def save_chunks(chunks, directory):\n",
    "    if not os.path.exists(directory):\n",
    "        os.makedirs(directory)\n",
    "    counter = 0\n",
    "\n",
    "    target_length = 5 * 1000\n",
    "    output_chunks = [chunks[0]]\n",
    "    for chunk in chunks[1:]:\n",
    "        if len(output_chunks[-1]) < target_length:\n",
    "            output_chunks[-1] += chunk\n",
    "        else:\n",
    "            # if the last output chunk is longer than the target length,\n",
    "            # we can start a new one\n",
    "            output_chunks.append(chunk)\n",
    "\n",
    "    for chunk in output_chunks:\n",
    "        chunk = chunk.set_frame_rate(24000)\n",
    "        chunk = chunk.set_channels(1)\n",
    "        counter = counter + 1\n",
    "        chunk.export(os.path.join(directory, str(counter) + '.wav'), format=\"wav\")"
   ]
  },
  {
   "cell_type": "code",
   "execution_count": 2,
   "id": "769a7f62",
   "metadata": {},
   "outputs": [],
   "source": [
    "# Source: http://speech.ee.ntu.edu.tw/~jjery2243542/resource/model/is18/en_speaker_used.txt\n",
    "# Source: https://github.com/jjery2243542/voice_conversion\n",
    "\n",
    "speakers = [\"female\"+str(i) for i in range(1, 10)] + [\"male\"+str(i) for i in range(1, 12)]"
   ]
  },
  {
   "cell_type": "code",
   "execution_count": 7,
   "id": "9302fb6a",
   "metadata": {},
   "outputs": [
    {
     "name": "stderr",
     "output_type": "stream",
     "text": [
      "100%|██████████| 20/20 [05:10<00:00, 15.54s/it]\n"
     ]
    }
   ],
   "source": [
    "# downsample to 24 kHz\n",
    "from tqdm import tqdm\n",
    "\n",
    "for p in tqdm(speakers):\n",
    "    directory = './data/vocalset/' + p\n",
    "    save_directory = __OUTPATH__ + '/' + p\n",
    "    os.makedirs(directory, exist_ok=True)\n",
    "    audio = combine(directory)\n",
    "    chunks = split(audio)\n",
    "    save_chunks(chunks, save_directory)"
   ]
  },
  {
   "cell_type": "code",
   "execution_count": 5,
   "id": "4b0ca022",
   "metadata": {},
   "outputs": [],
   "source": [
    "# get all speakers\n",
    "\n",
    "data_list = glob.glob('./data/original/*/*')\n",
    "                \n",
    "import pandas as pd\n",
    "\n",
    "data_list = pd.DataFrame(data_list)\n",
    "data_list = data_list.sample(frac=1)\n",
    "\n",
    "import random\n",
    "\n",
    "split_idx = round(len(data_list) * 0.1)\n",
    "\n",
    "test_data = data_list[:split_idx][0].to_list()\n",
    "train_data = data_list[split_idx:][0].to_list()"
   ]
  },
  {
   "cell_type": "code",
   "execution_count": 6,
   "id": "31d3bea2",
   "metadata": {},
   "outputs": [],
   "source": [
    "from sklearn.preprocessing import LabelEncoder\n",
    "\n",
    "le = LabelEncoder().fit(speakers)"
   ]
  },
  {
   "cell_type": "code",
   "execution_count": 8,
   "id": "88df2a45",
   "metadata": {},
   "outputs": [],
   "source": [
    "# write to file \n",
    "\n",
    "file_str = \"\"\n",
    "for k in train_data:\n",
    "    speaker = k.split('/')[3]\n",
    "    speaker_le = le.transform([speaker])[0]\n",
    "    file_str += '.'+ k + \"|\" + str(speaker_le)+ '\\n'\n",
    "text_file = open(__OUTPATH__ + \"/train_list.txt\", \"w\")\n",
    "text_file.write(file_str)\n",
    "text_file.close()\n",
    "\n",
    "file_str = \"\"\n",
    "for k in test_data:\n",
    "    speaker = k.split('/')[3]\n",
    "    speaker_le = le.transform([speaker])[0]\n",
    "    file_str += '.'+ k + \"|\" + str(speaker_le)+ '\\n'\n",
    "text_file = open(__OUTPATH__ + \"/val_list.txt\", \"w\")\n",
    "text_file.write(file_str)\n",
    "text_file.close()"
   ]
  },
  {
   "cell_type": "code",
   "execution_count": 12,
   "id": "df5c08b2",
   "metadata": {},
   "outputs": [
    {
     "data": {
      "text/html": [
       "<div>\n",
       "<style scoped>\n",
       "    .dataframe tbody tr th:only-of-type {\n",
       "        vertical-align: middle;\n",
       "    }\n",
       "\n",
       "    .dataframe tbody tr th {\n",
       "        vertical-align: top;\n",
       "    }\n",
       "\n",
       "    .dataframe thead th {\n",
       "        text-align: right;\n",
       "    }\n",
       "</style>\n",
       "<table border=\"1\" class=\"dataframe\">\n",
       "  <thead>\n",
       "    <tr style=\"text-align: right;\">\n",
       "      <th></th>\n",
       "    </tr>\n",
       "  </thead>\n",
       "  <tbody>\n",
       "  </tbody>\n",
       "</table>\n",
       "</div>"
      ],
      "text/plain": [
       "Empty DataFrame\n",
       "Columns: []\n",
       "Index: []"
      ]
     },
     "execution_count": 12,
     "metadata": {},
     "output_type": "execute_result"
    }
   ],
   "source": [
    "data_list"
   ]
  },
  {
   "cell_type": "code",
   "execution_count": null,
   "id": "7ec63869",
   "metadata": {},
   "outputs": [],
   "source": []
  }
 ],
 "metadata": {
  "kernelspec": {
   "display_name": "Python 3.8.13 ('star-gan')",
   "language": "python",
   "name": "python3"
  },
  "language_info": {
   "codemirror_mode": {
    "name": "ipython",
    "version": 3
   },
   "file_extension": ".py",
   "mimetype": "text/x-python",
   "name": "python",
   "nbconvert_exporter": "python",
   "pygments_lexer": "ipython3",
   "version": "3.8.13"
  },
  "vscode": {
   "interpreter": {
    "hash": "6ff196426cb2e6c5c09afe715074bb3c80254e02808366d07ced813f923d4d9b"
   }
  }
 },
 "nbformat": 4,
 "nbformat_minor": 5
}
