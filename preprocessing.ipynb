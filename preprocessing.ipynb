{
 "cells": [
  {
   "cell_type": "code",
   "execution_count": 38,
   "metadata": {},
   "outputs": [],
   "source": [
    "import os\n",
    "import glob\n",
    "import random\n",
    "import shutil\n",
    "from sklearn.preprocessing import LabelEncoder"
   ]
  },
  {
   "cell_type": "code",
   "execution_count": 21,
   "metadata": {},
   "outputs": [],
   "source": [
    "files = glob.glob('data/VocalSet11/FULL/*/*/*/*')\n",
    "\n",
    "vocals = [f.split('/')[3] for f in files]\n",
    "vocals = list(set(vocals))\n",
    "\n",
    "for v in vocals:\n",
    "    path = 'data/vocalset/'+v+'/'\n",
    "    os.makedirs(path, exist_ok=True)\n",
    "\n",
    "for f in files:\n",
    "    vocal = f.split('/')[3]\n",
    "    fname = f.split('/')[-1]\n",
    "    path = 'data/vocalset/' + vocal + '/' + fname\n",
    "    shutil.move(f, path)"
   ]
  },
  {
   "cell_type": "code",
   "execution_count": 32,
   "metadata": {},
   "outputs": [
    {
     "data": {
      "text/plain": [
       "array([ 5,  3,  0, 13, 18,  7,  9, 12, 19,  4,  6, 15, 10, 11,  1, 14, 16,\n",
       "        8,  2, 17])"
      ]
     },
     "execution_count": 32,
     "metadata": {},
     "output_type": "execute_result"
    }
   ],
   "source": [
    "files = glob.glob('data/vocalset/*/*')\n",
    "names = list(set([f.split('/')[2] for f in files]))\n",
    "le = LabelEncoder().fit(names)\n",
    "name_label = le.transform(names)\n",
    "name_label"
   ]
  },
  {
   "cell_type": "code",
   "execution_count": 53,
   "metadata": {},
   "outputs": [],
   "source": [
    "val_dirs = []\n",
    "\n",
    "for name in names:\n",
    "    path = 'data/vocalset/' + name + '/*'\n",
    "    dirs = glob.glob(path)\n",
    "    val_dir = random.choices(dirs, k = 15)\n",
    "    val_dirs += val_dir"
   ]
  },
  {
   "cell_type": "code",
   "execution_count": 56,
   "metadata": {},
   "outputs": [],
   "source": [
    "file_dirs = glob.glob('data/vocalset/*/*')\n",
    "f = open('data/train_list.txt', 'w')\n",
    "g = open('data/val_list.txt', 'w')\n",
    "\n",
    "for file in file_dirs:\n",
    "    name = file.split('/')[2]\n",
    "    name_le = le.transform([name])[0]\n",
    "    content = '../'+file + '|'+str(name_le)+'\\n'\n",
    "    if file in val_dirs:\n",
    "        g.write(content)\n",
    "    else:\n",
    "        f.write(content)\n",
    "\n",
    "f.close()\n",
    "g.close()\n"
   ]
  },
  {
   "cell_type": "code",
   "execution_count": null,
   "metadata": {},
   "outputs": [],
   "source": []
  }
 ],
 "metadata": {
  "kernelspec": {
   "display_name": "Python 3.8.13 ('star-gan')",
   "language": "python",
   "name": "python3"
  },
  "language_info": {
   "codemirror_mode": {
    "name": "ipython",
    "version": 3
   },
   "file_extension": ".py",
   "mimetype": "text/x-python",
   "name": "python",
   "nbconvert_exporter": "python",
   "pygments_lexer": "ipython3",
   "version": "3.8.13"
  },
  "orig_nbformat": 4,
  "vscode": {
   "interpreter": {
    "hash": "6ff196426cb2e6c5c09afe715074bb3c80254e02808366d07ced813f923d4d9b"
   }
  }
 },
 "nbformat": 4,
 "nbformat_minor": 2
}
