{
 "cells": [
  {
   "cell_type": "code",
   "execution_count": 1,
   "metadata": {},
   "outputs": [],
   "source": [
    "import os\n",
    "from scipy.io import wavfile\n",
    "from pydub import AudioSegment\n",
    "from pydub.silence import split_on_silence\n",
    "\n",
    "import glob"
   ]
  },
  {
   "cell_type": "code",
   "execution_count": 35,
   "metadata": {},
   "outputs": [],
   "source": [
    "import os\n",
    "from tqdm import tqdm\n",
    "from scipy.io import wavfile\n",
    "from pydub import AudioSegment\n",
    "from pydub.silence import split_on_silence\n",
    "\n",
    "import glob\n",
    "\n",
    "def split(sound):\n",
    "    dBFS = sound.dBFS\n",
    "    chunks = split_on_silence(sound,\n",
    "        min_silence_len = 100,\n",
    "        silence_thresh = dBFS-16,\n",
    "        keep_silence = 100\n",
    "    )\n",
    "    return chunks\n",
    "\n",
    "def combine(_src):\n",
    "    audio = AudioSegment.empty()\n",
    "    for i,filename in enumerate(os.listdir(_src)):\n",
    "        if filename.endswith('.mp3'):\n",
    "            filename = os.path.join(_src, filename)\n",
    "            audio += AudioSegment.from_mp3(filename)\n",
    "    return audio\n",
    "\n",
    "def save_chunks(chunks, directory):\n",
    "    if not os.path.exists(directory):\n",
    "        os.makedirs(directory)\n",
    "    counter = 0\n",
    "\n",
    "    target_length = 5 * 1000\n",
    "    output_chunks = [chunks[0]]\n",
    "    for chunk in chunks[1:]:\n",
    "        if len(output_chunks[-1]) < target_length:\n",
    "            output_chunks[-1] += chunk\n",
    "        else:\n",
    "            # if the last output chunk is longer than the target length,\n",
    "            # we can start a new one\n",
    "            output_chunks.append(chunk)\n",
    "\n",
    "    for chunk in output_chunks:\n",
    "        chunk = chunk.set_frame_rate(24000)\n",
    "        chunk = chunk.set_channels(1)\n",
    "        counter = counter + 1\n",
    "        chunk.export(os.path.join(directory, str(counter) + '.wav'), format=\"wav\")"
   ]
  },
  {
   "cell_type": "code",
   "execution_count": 10,
   "metadata": {},
   "outputs": [],
   "source": [
    "flist = glob.glob('data/spot/*/*')\n",
    "artists = list(set([f.split('/')[2].split(' - ')[0] for f in flist]))\n",
    "\n",
    "for k in artists:\n",
    "    path = 'data/spot_vocals/'+k+'/'\n",
    "    os.makedirs(path, exist_ok=True)"
   ]
  },
  {
   "cell_type": "code",
   "execution_count": 25,
   "metadata": {},
   "outputs": [],
   "source": [
    "flist = glob.glob('data/spot/*/*')\n",
    "vocal_list = []\n",
    "for f in flist:\n",
    "    if 'no_vocals.mp3' in f:\n",
    "        continue\n",
    "    else:\n",
    "        vocal_list.append(f)"
   ]
  },
  {
   "cell_type": "code",
   "execution_count": 30,
   "metadata": {},
   "outputs": [],
   "source": [
    "import shutil\n",
    "\n",
    "for v in vocal_list:\n",
    "    artist = v.split('/')[2].split(' - ')[0]\n",
    "    name = v.split('/')[2].split(' - ')[-1]\n",
    "    path = 'data/spot_vocals/'+artist+'/'+name+'.mp3'\n",
    "    shutil.move(v, path)"
   ]
  },
  {
   "cell_type": "code",
   "execution_count": 31,
   "metadata": {},
   "outputs": [
    {
     "data": {
      "text/plain": [
       "['Lilas Ikuta',\n",
       " 'Sakura Fujiwara',\n",
       " 'Masaharu Fukuyama',\n",
       " 'Ken Hirai',\n",
       " 'Ai Otsuka',\n",
       " '高野洸',\n",
       " 'ASIAN KUNG-FU GENERATION',\n",
       " 'Fujii Kaze',\n",
       " 'Motohiro Hata',\n",
       " 'LiSA',\n",
       " 'My Hair is Bad',\n",
       " 'King Gnu',\n",
       " 'RADWIMPS',\n",
       " 'YUI',\n",
       " 'Naotaro Moriyama',\n",
       " 'Sakurako Ohara',\n",
       " 'Gen Hoshino',\n",
       " 'Sheena Ringo',\n",
       " 'Aimyon',\n",
       " 'aiko']"
      ]
     },
     "execution_count": 31,
     "metadata": {},
     "output_type": "execute_result"
    }
   ],
   "source": [
    "artists"
   ]
  },
  {
   "cell_type": "code",
   "execution_count": 37,
   "metadata": {},
   "outputs": [
    {
     "name": "stderr",
     "output_type": "stream",
     "text": [
      "100%|██████████| 20/20 [06:30<00:00, 19.52s/it]\n"
     ]
    }
   ],
   "source": [
    "# output path\n",
    "__OUTPATH__ = \"./data/spot_original\"\n",
    "for p in tqdm(artists):\n",
    "    directory = './data/spot_vocals/' + p\n",
    "    save_directory = __OUTPATH__ + '/' + p\n",
    "    os.makedirs(directory, exist_ok=True)\n",
    "    audio = combine(directory)\n",
    "    chunks = split(audio)\n",
    "    save_chunks(chunks, save_directory)"
   ]
  },
  {
   "cell_type": "code",
   "execution_count": 38,
   "metadata": {},
   "outputs": [],
   "source": [
    "# 平井堅-114: ボーカル以外の音が入っている"
   ]
  },
  {
   "cell_type": "code",
   "execution_count": 39,
   "metadata": {},
   "outputs": [],
   "source": [
    "# get all speakers\n",
    "\n",
    "data_list = glob.glob('./data/spot_original/*/*')\n",
    "                \n",
    "import pandas as pd\n",
    "\n",
    "data_list = pd.DataFrame(data_list)\n",
    "data_list = data_list.sample(frac=1)\n",
    "\n",
    "import random\n",
    "\n",
    "split_idx = round(len(data_list) * 0.1)\n",
    "\n",
    "test_data = data_list[:split_idx][0].to_list()\n",
    "train_data = data_list[split_idx:][0].to_list()"
   ]
  },
  {
   "cell_type": "code",
   "execution_count": 40,
   "metadata": {},
   "outputs": [],
   "source": [
    "from sklearn.preprocessing import LabelEncoder\n",
    "\n",
    "le = LabelEncoder().fit(artists)"
   ]
  },
  {
   "cell_type": "code",
   "execution_count": 43,
   "metadata": {},
   "outputs": [],
   "source": [
    "# write to file \n",
    "\n",
    "file_str = \"\"\n",
    "for k in train_data:\n",
    "    artist = k.split('/')[3]\n",
    "    artist_le = le.transform([artist])[0]\n",
    "    file_str += '.'+ k + \"|\" + str(artist_le)+ '\\n'\n",
    "text_file = open(__OUTPATH__ + \"/train_list.txt\", \"w\")\n",
    "text_file.write(file_str)\n",
    "text_file.close()\n",
    "\n",
    "file_str = \"\"\n",
    "for k in test_data:\n",
    "    artist = k.split('/')[3]\n",
    "    artist_le = le.transform([artist])[0]\n",
    "    file_str += '.'+ k + \"|\" + str(artist_le)+ '\\n'\n",
    "text_file = open(__OUTPATH__ + \"/val_list.txt\", \"w\")\n",
    "text_file.write(file_str)\n",
    "text_file.close()"
   ]
  },
  {
   "cell_type": "code",
   "execution_count": null,
   "metadata": {},
   "outputs": [],
   "source": []
  }
 ],
 "metadata": {
  "kernelspec": {
   "display_name": "Python 3.8.13 ('star-gan')",
   "language": "python",
   "name": "python3"
  },
  "language_info": {
   "codemirror_mode": {
    "name": "ipython",
    "version": 3
   },
   "file_extension": ".py",
   "mimetype": "text/x-python",
   "name": "python",
   "nbconvert_exporter": "python",
   "pygments_lexer": "ipython3",
   "version": "3.8.13"
  },
  "orig_nbformat": 4,
  "vscode": {
   "interpreter": {
    "hash": "6ff196426cb2e6c5c09afe715074bb3c80254e02808366d07ced813f923d4d9b"
   }
  }
 },
 "nbformat": 4,
 "nbformat_minor": 2
}
